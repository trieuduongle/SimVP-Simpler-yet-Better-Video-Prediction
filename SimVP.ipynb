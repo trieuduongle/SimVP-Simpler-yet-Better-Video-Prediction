{
  "nbformat": 4,
  "nbformat_minor": 0,
  "metadata": {
    "colab": {
      "provenance": [],
      "include_colab_link": true
    },
    "kernelspec": {
      "name": "python3",
      "display_name": "Python 3"
    },
    "language_info": {
      "name": "python"
    },
    "accelerator": "GPU",
    "gpuClass": "premium"
  },
  "cells": [
    {
      "cell_type": "markdown",
      "metadata": {
        "id": "view-in-github",
        "colab_type": "text"
      },
      "source": [
        "<a href=\"https://colab.research.google.com/github/trieuduongle/SimVP-Simpler-yet-Better-Video-Prediction/blob/colab/SimVP.ipynb\" target=\"_parent\"><img src=\"https://colab.research.google.com/assets/colab-badge.svg\" alt=\"Open In Colab\"/></a>"
      ]
    },
    {
      "cell_type": "code",
      "execution_count": 1,
      "metadata": {
        "colab": {
          "base_uri": "https://localhost:8080/"
        },
        "id": "tLrjGVvQWNxH",
        "outputId": "926f0faa-b787-47b6-890c-03c7d4fb8876"
      },
      "outputs": [
        {
          "output_type": "stream",
          "name": "stdout",
          "text": [
            "Mounted at /content/drive\n"
          ]
        }
      ],
      "source": [
        "from google.colab import drive\n",
        "drive.mount('/content/drive', force_remount=True)"
      ]
    },
    {
      "cell_type": "code",
      "source": [
        "!git clone https://github.com/trieuduongle/SimVP-Simpler-yet-Better-Video-Prediction.git '/content/drive/My Drive/Duong/SimVP/code'"
      ],
      "metadata": {
        "colab": {
          "base_uri": "https://localhost:8080/"
        },
        "id": "TQ8IXIA9WeV0",
        "outputId": "f9accff2-c260-4cda-bbf2-42c8eb33f626"
      },
      "execution_count": 4,
      "outputs": [
        {
          "output_type": "stream",
          "name": "stdout",
          "text": [
            "Cloning into '/SimVP'...\n",
            "remote: Enumerating objects: 61, done.\u001b[K\n",
            "remote: Counting objects: 100% (61/61), done.\u001b[K\n",
            "remote: Compressing objects: 100% (55/55), done.\u001b[K\n",
            "remote: Total 61 (delta 25), reused 24 (delta 2), pack-reused 0\u001b[K\n",
            "Unpacking objects: 100% (61/61), done.\n"
          ]
        }
      ]
    },
    {
      "cell_type": "code",
      "source": [
        "%cd '/content/drive/My Drive/Duong/SimVP/code'"
      ],
      "metadata": {
        "colab": {
          "base_uri": "https://localhost:8080/"
        },
        "id": "snonURDKWpwk",
        "outputId": "1d3740f6-5ef2-4639-93a5-dd6e554e0382"
      },
      "execution_count": 5,
      "outputs": [
        {
          "output_type": "stream",
          "name": "stdout",
          "text": [
            "/SimVP\n"
          ]
        }
      ]
    },
    {
      "cell_type": "code",
      "source": [
        "import torch\n",
        "torch.cuda.device_count()\n",
        "torch.cuda.is_available()\n",
        "torch.cuda.current_device()\n",
        "torch.cuda.device(0)\n",
        "torch.cuda.get_device_name(0)"
      ],
      "metadata": {
        "id": "7wh_1WQhfFu4",
        "outputId": "9f03496d-56cc-4aa8-d3e7-616d14ca5633",
        "colab": {
          "base_uri": "https://localhost:8080/",
          "height": 35
        }
      },
      "execution_count": 2,
      "outputs": [
        {
          "output_type": "execute_result",
          "data": {
            "text/plain": [
              "'A100-SXM4-40GB'"
            ],
            "application/vnd.google.colaboratory.intrinsic+json": {
              "type": "string"
            }
          },
          "metadata": {},
          "execution_count": 2
        }
      ]
    },
    {
      "cell_type": "code",
      "source": [
        "!git fetch origin && git checkout colab && git pull"
      ],
      "metadata": {
        "colab": {
          "base_uri": "https://localhost:8080/"
        },
        "id": "VyuC_ecGWmcU",
        "outputId": "063b976f-6040-46c7-8216-b9100259a3c2"
      },
      "execution_count": 6,
      "outputs": [
        {
          "output_type": "stream",
          "name": "stdout",
          "text": [
            "Branch 'colab' set up to track remote branch 'colab' from 'origin'.\n",
            "Switched to a new branch 'colab'\n",
            "Already up to date.\n"
          ]
        }
      ]
    },
    {
      "cell_type": "code",
      "source": [
        "!bash \"./data/moving_mnist/download_mmnist.sh\""
      ],
      "metadata": {
        "colab": {
          "base_uri": "https://localhost:8080/"
        },
        "id": "SY1EmwzxWzGa",
        "outputId": "47c3284a-6b8d-48ba-f16a-9e73c1b92edb"
      },
      "execution_count": 7,
      "outputs": [
        {
          "output_type": "stream",
          "name": "stdout",
          "text": [
            "--2022-12-01 16:34:18--  http://www.cs.toronto.edu/~nitish/unsupervised_video/mnist_test_seq.npy\n",
            "Resolving www.cs.toronto.edu (www.cs.toronto.edu)... 128.100.3.30\n",
            "Connecting to www.cs.toronto.edu (www.cs.toronto.edu)|128.100.3.30|:80... connected.\n",
            "HTTP request sent, awaiting response... 200 OK\n",
            "Length: 819200096 (781M)\n",
            "Saving to: ‘mnist_test_seq.npy’\n",
            "\n",
            "mnist_test_seq.npy  100%[===================>] 781.25M  73.1MB/s    in 13s     \n",
            "\n",
            "2022-12-01 16:34:33 (59.9 MB/s) - ‘mnist_test_seq.npy’ saved [819200096/819200096]\n",
            "\n",
            "--2022-12-01 16:34:33--  http://yann.lecun.com/exdb/mnist/train-images-idx3-ubyte.gz\n",
            "Resolving yann.lecun.com (yann.lecun.com)... 104.21.29.36, 172.67.171.76, 2606:4700:130:436c:6f75:6466:6c61:7265\n",
            "Connecting to yann.lecun.com (yann.lecun.com)|104.21.29.36|:80... connected.\n",
            "HTTP request sent, awaiting response... 200 OK\n",
            "Length: 9912422 (9.5M) [application/x-gzip]\n",
            "Saving to: ‘train-images-idx3-ubyte.gz’\n",
            "\n",
            "train-images-idx3-u 100%[===================>]   9.45M  19.5MB/s    in 0.5s    \n",
            "\n",
            "2022-12-01 16:34:33 (19.5 MB/s) - ‘train-images-idx3-ubyte.gz’ saved [9912422/9912422]\n",
            "\n"
          ]
        }
      ]
    },
    {
      "cell_type": "code",
      "source": [
        "!python main.py --batch_size 64"
      ],
      "metadata": {
        "colab": {
          "base_uri": "https://localhost:8080/"
        },
        "id": "xgflhFiSXuHA",
        "outputId": "9399cfd3-f815-456e-e2a3-4753331d5cbb"
      },
      "execution_count": 9,
      "outputs": [
        {
          "output_type": "stream",
          "name": "stdout",
          "text": [
            "Use GPU: 0\n",
            "\n",
            "device: \tcuda\t\n",
            "res_dir: \t./results\t\n",
            "ex_name: \tDebug\t\n",
            "use_gpu: \tTrue\t\n",
            "gpu: \t0\t\n",
            "seed: \t1\t\n",
            "batch_size: \t64\t\n",
            "val_batch_size: \t16\t\n",
            "data_root: \t./data/\t\n",
            "dataname: \tmmnist\t\n",
            "num_workers: \t8\t\n",
            "in_shape: \t[10, 1, 64, 64]\t\n",
            "hid_S: \t64\t\n",
            "hid_T: \t256\t\n",
            "N_S: \t4\t\n",
            "N_T: \t8\t\n",
            "groups: \t4\t\n",
            "epochs: \t51\t\n",
            "log_step: \t1\t\n",
            "lr: \t0.01\t\n",
            ">>>>>>>>>>>>>>>>>>>>>>>>>>>>  start <<<<<<<<<<<<<<<<<<<<<<<<<<<<<<<<\n",
            "train loss: 0.0337: 100% 157/157 [00:44<00:00,  3.54it/s]\n",
            "vali loss: 0.0310:  10% 63/625 [00:03<00:27, 20.68it/s]\n",
            "vali mse:137.6444, mae:346.0001, ssim:0.4469, psnr:31.2841\n",
            "Epoch: 1 | Train Loss: 0.0460 Vali Loss: 0.0336\n",
            "\n",
            "Validation loss decreased (inf --> 0.033605).  Saving model ...\n",
            "train loss: 0.0313: 100% 157/157 [00:37<00:00,  4.23it/s]\n",
            "vali loss: 0.0286:  10% 63/625 [00:03<00:28, 19.47it/s]\n",
            "vali mse:126.3827, mae:296.9196, ssim:0.5107, psnr:32.2142\n",
            "Epoch: 2 | Train Loss: 0.0313 Vali Loss: 0.0309\n",
            "\n",
            "Validation loss decreased (0.033605 --> 0.030855).  Saving model ...\n",
            "train loss: 0.0283: 100% 157/157 [00:37<00:00,  4.23it/s]\n",
            "vali loss: 0.0269:  10% 63/625 [00:03<00:28, 19.89it/s]\n",
            "vali mse:118.7211, mae:278.7345, ssim:0.5592, psnr:32.8707\n",
            "Epoch: 3 | Train Loss: 0.0293 Vali Loss: 0.0290\n",
            "\n",
            "Validation loss decreased (0.030855 --> 0.028985).  Saving model ...\n",
            "train loss: 0.0287: 100% 157/157 [00:37<00:00,  4.23it/s]\n",
            "vali loss: 0.0264:  10% 63/625 [00:03<00:28, 19.55it/s]\n",
            "vali mse:117.5775, mae:265.8234, ssim:0.6161, psnr:33.4710\n",
            "Epoch: 4 | Train Loss: 0.0282 Vali Loss: 0.0287\n",
            "\n",
            "Validation loss decreased (0.028985 --> 0.028706).  Saving model ...\n",
            "train loss: 0.0263: 100% 157/157 [00:37<00:00,  4.23it/s]\n",
            "vali loss: 0.0261:  10% 63/625 [00:03<00:28, 19.55it/s]\n",
            "vali mse:113.0489, mae:255.9769, ssim:0.6222, psnr:33.6774\n",
            "Epoch: 5 | Train Loss: 0.0274 Vali Loss: 0.0276\n",
            "\n",
            "Validation loss decreased (0.028706 --> 0.027600).  Saving model ...\n",
            "train loss: 0.0278: 100% 157/157 [00:37<00:00,  4.23it/s]\n",
            "vali loss: 0.0254:  10% 63/625 [00:03<00:28, 19.75it/s]\n",
            "vali mse:108.6772, mae:268.7874, ssim:0.5823, psnr:33.3547\n",
            "Epoch: 6 | Train Loss: 0.0265 Vali Loss: 0.0265\n",
            "\n",
            "Validation loss decreased (0.027600 --> 0.026533).  Saving model ...\n",
            "train loss: 0.0257: 100% 157/157 [00:37<00:00,  4.23it/s]\n",
            "vali loss: 0.0237:  10% 63/625 [00:03<00:28, 19.47it/s]\n",
            "vali mse:103.5582, mae:250.0797, ssim:0.6322, psnr:33.7852\n",
            "Epoch: 7 | Train Loss: 0.0255 Vali Loss: 0.0253\n",
            "\n",
            "Validation loss decreased (0.026533 --> 0.025283).  Saving model ...\n",
            "train loss: 0.0232: 100% 157/157 [00:37<00:00,  4.23it/s]\n",
            "vali loss: 0.0229:  10% 63/625 [00:03<00:28, 19.39it/s]\n",
            "vali mse:99.2328, mae:234.3316, ssim:0.6954, psnr:34.5845\n",
            "Epoch: 8 | Train Loss: 0.0246 Vali Loss: 0.0242\n",
            "\n",
            "Validation loss decreased (0.025283 --> 0.024227).  Saving model ...\n",
            "train loss: 0.0225: 100% 157/157 [00:37<00:00,  4.23it/s]\n",
            "vali loss: 0.0222:  10% 63/625 [00:03<00:28, 19.58it/s]\n",
            "vali mse:94.9563, mae:249.7297, ssim:0.5827, psnr:33.6404\n",
            "Epoch: 9 | Train Loss: 0.0233 Vali Loss: 0.0232\n",
            "\n",
            "Validation loss decreased (0.024227 --> 0.023183).  Saving model ...\n",
            "train loss: 0.0225: 100% 157/157 [00:37<00:00,  4.24it/s]\n",
            "vali loss: 0.0218:  10% 63/625 [00:03<00:29, 19.19it/s]\n",
            "vali mse:93.5796, mae:220.0360, ssim:0.7582, psnr:35.3514\n",
            "Epoch: 10 | Train Loss: 0.0225 Vali Loss: 0.0228\n",
            "\n",
            "Validation loss decreased (0.023183 --> 0.022847).  Saving model ...\n",
            "train loss: 0.0222: 100% 157/157 [00:37<00:00,  4.23it/s]\n",
            "vali loss: 0.0221:  10% 63/625 [00:03<00:28, 19.44it/s]\n",
            "vali mse:92.0262, mae:232.9030, ssim:0.7741, psnr:35.7236\n",
            "Epoch: 11 | Train Loss: 0.0218 Vali Loss: 0.0225\n",
            "\n",
            "Validation loss decreased (0.022847 --> 0.022467).  Saving model ...\n",
            "train loss: 0.0215: 100% 157/157 [00:37<00:00,  4.23it/s]\n",
            "vali loss: 0.0207:  10% 63/625 [00:03<00:29, 19.34it/s]\n",
            "vali mse:86.8812, mae:218.1367, ssim:0.7721, psnr:35.5152\n",
            "Epoch: 12 | Train Loss: 0.0212 Vali Loss: 0.0212\n",
            "\n",
            "Validation loss decreased (0.022467 --> 0.021211).  Saving model ...\n",
            "train loss: 0.0220: 100% 157/157 [00:37<00:00,  4.22it/s]\n",
            "vali loss: 0.0198:  10% 63/625 [00:03<00:28, 19.52it/s]\n",
            "vali mse:84.9514, mae:198.9120, ssim:0.7663, psnr:35.3256\n",
            "Epoch: 13 | Train Loss: 0.0209 Vali Loss: 0.0207\n",
            "\n",
            "Validation loss decreased (0.021211 --> 0.020740).  Saving model ...\n",
            "train loss: 0.0203: 100% 157/157 [00:37<00:00,  4.23it/s]\n",
            "vali loss: 0.0192:  10% 63/625 [00:03<00:28, 19.60it/s]\n",
            "vali mse:83.2834, mae:202.5196, ssim:0.7973, psnr:35.9497\n",
            "Epoch: 14 | Train Loss: 0.0202 Vali Loss: 0.0203\n",
            "\n",
            "Validation loss decreased (0.020740 --> 0.020333).  Saving model ...\n",
            "train loss: 0.0191: 100% 157/157 [00:37<00:00,  4.23it/s]\n",
            "vali loss: 0.0185:  10% 63/625 [00:03<00:28, 19.47it/s]\n",
            "vali mse:80.9647, mae:205.6377, ssim:0.7397, psnr:35.0482\n",
            "Epoch: 15 | Train Loss: 0.0197 Vali Loss: 0.0198\n",
            "\n",
            "Validation loss decreased (0.020333 --> 0.019767).  Saving model ...\n",
            "train loss: 0.0190: 100% 157/157 [00:37<00:00,  4.23it/s]\n",
            "vali loss: 0.0180:  10% 63/625 [00:03<00:28, 19.65it/s]\n",
            "vali mse:79.4775, mae:203.9977, ssim:0.7803, psnr:35.3456\n",
            "Epoch: 16 | Train Loss: 0.0193 Vali Loss: 0.0194\n",
            "\n",
            "Validation loss decreased (0.019767 --> 0.019404).  Saving model ...\n",
            "train loss: 0.0203: 100% 157/157 [00:37<00:00,  4.23it/s]\n",
            "vali loss: 0.0188:  10% 63/625 [00:03<00:28, 19.69it/s]\n",
            "vali mse:78.8270, mae:224.6094, ssim:0.6146, psnr:33.9823\n",
            "Epoch: 17 | Train Loss: 0.0189 Vali Loss: 0.0192\n",
            "\n",
            "Validation loss decreased (0.019404 --> 0.019245).  Saving model ...\n",
            "train loss: 0.0183: 100% 157/157 [00:37<00:00,  4.23it/s]\n",
            "vali loss: 0.0175:  10% 63/625 [00:03<00:28, 19.74it/s]\n",
            "vali mse:76.8339, mae:188.6660, ssim:0.7742, psnr:35.5812\n",
            "Epoch: 18 | Train Loss: 0.0186 Vali Loss: 0.0188\n",
            "\n",
            "Validation loss decreased (0.019245 --> 0.018758).  Saving model ...\n",
            "train loss: 0.0182: 100% 157/157 [00:37<00:00,  4.22it/s]\n",
            "vali loss: 0.0179:  10% 63/625 [00:03<00:28, 19.46it/s]\n",
            "vali mse:75.0394, mae:185.8936, ssim:0.7845, psnr:35.5812\n",
            "Epoch: 19 | Train Loss: 0.0184 Vali Loss: 0.0183\n",
            "\n",
            "Validation loss decreased (0.018758 --> 0.018320).  Saving model ...\n",
            "train loss: 0.0166: 100% 157/157 [00:37<00:00,  4.24it/s]\n",
            "vali loss: 0.0170:  10% 63/625 [00:03<00:28, 19.45it/s]\n",
            "vali mse:74.4794, mae:179.7516, ssim:0.8058, psnr:35.8249\n",
            "Epoch: 20 | Train Loss: 0.0180 Vali Loss: 0.0182\n",
            "\n",
            "Validation loss decreased (0.018320 --> 0.018184).  Saving model ...\n",
            "train loss: 0.0174: 100% 157/157 [00:37<00:00,  4.23it/s]\n",
            "vali loss: 0.0167:  10% 63/625 [00:03<00:28, 19.51it/s]\n",
            "vali mse:72.6940, mae:182.0740, ssim:0.7873, psnr:35.7151\n",
            "Epoch: 21 | Train Loss: 0.0178 Vali Loss: 0.0177\n",
            "\n",
            "Validation loss decreased (0.018184 --> 0.017748).  Saving model ...\n",
            "train loss: 0.0189: 100% 157/157 [00:37<00:00,  4.23it/s]\n",
            "vali loss: 0.0165:  10% 63/625 [00:03<00:28, 19.50it/s]\n",
            "vali mse:71.9190, mae:178.7111, ssim:0.8263, psnr:36.3520\n",
            "Epoch: 22 | Train Loss: 0.0175 Vali Loss: 0.0176\n",
            "\n",
            "Validation loss decreased (0.017748 --> 0.017558).  Saving model ...\n",
            "train loss: 0.0168: 100% 157/157 [00:37<00:00,  4.23it/s]\n",
            "vali loss: 0.0165:  10% 63/625 [00:03<00:28, 19.55it/s]\n",
            "vali mse:70.7945, mae:171.0153, ssim:0.8150, psnr:35.9789\n",
            "Epoch: 23 | Train Loss: 0.0172 Vali Loss: 0.0173\n",
            "\n",
            "Validation loss decreased (0.017558 --> 0.017284).  Saving model ...\n",
            "train loss: 0.0156: 100% 157/157 [00:37<00:00,  4.23it/s]\n",
            "vali loss: 0.0161:  10% 63/625 [00:03<00:28, 19.67it/s]\n",
            "vali mse:69.4670, mae:169.0605, ssim:0.8081, psnr:36.1257\n",
            "Epoch: 24 | Train Loss: 0.0171 Vali Loss: 0.0170\n",
            "\n",
            "Validation loss decreased (0.017284 --> 0.016960).  Saving model ...\n",
            "train loss: 0.0155: 100% 157/157 [00:37<00:00,  4.23it/s]\n",
            "vali loss: 0.0155:  10% 63/625 [00:03<00:28, 19.72it/s]\n",
            "vali mse:69.3838, mae:168.5445, ssim:0.8148, psnr:36.0635\n",
            "Epoch: 25 | Train Loss: 0.0169 Vali Loss: 0.0169\n",
            "\n",
            "Validation loss decreased (0.016960 --> 0.016940).  Saving model ...\n",
            "train loss: 0.0157: 100% 157/157 [00:37<00:00,  4.23it/s]\n",
            "vali loss: 0.0158:  10% 63/625 [00:03<00:28, 19.45it/s]\n",
            "vali mse:68.5109, mae:177.7370, ssim:0.7696, psnr:35.8291\n",
            "Epoch: 26 | Train Loss: 0.0166 Vali Loss: 0.0167\n",
            "\n",
            "Validation loss decreased (0.016940 --> 0.016726).  Saving model ...\n",
            "train loss: 0.0161: 100% 157/157 [00:37<00:00,  4.23it/s]\n",
            "vali loss: 0.0156:  10% 63/625 [00:03<00:28, 19.82it/s]\n",
            "vali mse:69.3776, mae:167.9369, ssim:0.8221, psnr:36.2695\n",
            "Epoch: 27 | Train Loss: 0.0164 Vali Loss: 0.0169\n",
            "\n",
            "train loss: 0.0160: 100% 157/157 [00:37<00:00,  4.23it/s]\n",
            "vali loss: 0.0156:  10% 63/625 [00:03<00:28, 19.78it/s]\n",
            "vali mse:67.5283, mae:163.2062, ssim:0.8268, psnr:36.3430\n",
            "Epoch: 28 | Train Loss: 0.0164 Vali Loss: 0.0165\n",
            "\n",
            "Validation loss decreased (0.016726 --> 0.016487).  Saving model ...\n",
            "train loss: 0.0156: 100% 157/157 [00:37<00:00,  4.23it/s]\n",
            "vali loss: 0.0146:  10% 63/625 [00:03<00:28, 19.89it/s]\n",
            "vali mse:65.6572, mae:167.2080, ssim:0.8358, psnr:36.3493\n",
            "Epoch: 29 | Train Loss: 0.0161 Vali Loss: 0.0160\n",
            "\n",
            "Validation loss decreased (0.016487 --> 0.016030).  Saving model ...\n",
            "train loss: 0.0153: 100% 157/157 [00:37<00:00,  4.24it/s]\n",
            "vali loss: 0.0154:  10% 63/625 [00:03<00:28, 19.44it/s]\n",
            "vali mse:64.9698, mae:164.7351, ssim:0.8410, psnr:36.4464\n",
            "Epoch: 30 | Train Loss: 0.0158 Vali Loss: 0.0159\n",
            "\n",
            "Validation loss decreased (0.016030 --> 0.015862).  Saving model ...\n",
            "train loss: 0.0153:   6% 10/157 [00:03<00:45,  3.23it/s]\n",
            "Traceback (most recent call last):\n",
            "  File \"/usr/local/lib/python3.8/dist-packages/torch/optim/optimizer.py\", line 113, in wrapper\n",
            "    return func(*args, **kwargs)\n",
            "  File \"/usr/local/lib/python3.8/dist-packages/torch/autograd/grad_mode.py\", line 27, in decorate_context\n",
            "    return func(*args, **kwargs)\n",
            "  File \"/usr/local/lib/python3.8/dist-packages/torch/optim/adam.py\", line 157, in step\n",
            "    adam(params_with_grad,\n",
            "  File \"/usr/local/lib/python3.8/dist-packages/torch/optim/adam.py\", line 213, in adam\n",
            "    func(params,\n",
            "  File \"/usr/local/lib/python3.8/dist-packages/torch/optim/adam.py\", line 262, in _single_tensor_adam\n",
            "    exp_avg.mul_(beta1).add_(grad, alpha=1 - beta1)\n",
            "KeyboardInterrupt\n",
            "\n",
            "During handling of the above exception, another exception occurred:\n",
            "\n",
            "Traceback (most recent call last):\n",
            "  File \"main.py\", line 45, in <module>\n",
            "    exp.train(args)\n",
            "  File \"/SimVP/exp.py\", line 108, in train\n",
            "    self.optimizer.step()\n",
            "  File \"/usr/local/lib/python3.8/dist-packages/torch/optim/lr_scheduler.py\", line 65, in wrapper\n",
            "    return wrapped(*args, **kwargs)\n",
            "  File \"/usr/local/lib/python3.8/dist-packages/torch/optim/optimizer.py\", line 113, in wrapper\n",
            "    return func(*args, **kwargs)\n",
            "  File \"/usr/local/lib/python3.8/dist-packages/torch/autograd/profiler.py\", line 451, in __exit__\n",
            "    torch.ops.profiler._record_function_exit(self.handle)\n",
            "  File \"/usr/local/lib/python3.8/dist-packages/torch/_ops.py\", line 143, in __call__\n",
            "    return self._op(*args, **kwargs or {})\n",
            "KeyboardInterrupt\n",
            "^C\n"
          ]
        }
      ]
    }
  ]
}